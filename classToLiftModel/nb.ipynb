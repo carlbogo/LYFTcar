{
 "cells": [
  {
   "cell_type": "code",
   "execution_count": null,
   "metadata": {},
   "outputs": [],
   "source": [
    "tub_names = ['tub_13_24-10-29']"
   ]
  },
  {
   "cell_type": "code",
   "execution_count": null,
   "metadata": {},
   "outputs": [],
   "source": [
    "import tensorflow\n",
    "print(tensorflow.__version__) # tf version should be > 2.9 and <=2.15\n",
    "!git clone https://github.com/autorope/donkeycar.git\n",
    "%cd /content/donkeycar\n",
    "!git checkout 5.0.0 # Donkey v5\n",
    "!pip3 install -e .[pc] # Install Donkey Car"
   ]
  },
  {
   "cell_type": "code",
   "execution_count": null,
   "metadata": {},
   "outputs": [],
   "source": [
    "!donkey createcar --path /content/mycar"
   ]
  },
  {
   "cell_type": "code",
   "execution_count": null,
   "metadata": {},
   "outputs": [],
   "source": [
    "from google.colab import drive\n",
    "# Connect to a GD folder\n",
    "drive.mount('/content/drive')\n",
    "# Default folder of Colab Notebook files\n",
    "path = \"/content/drive/MyDrive/Colab\\ Notebooks/\" # TODO: Modify the path if necessary"
   ]
  },
  {
   "cell_type": "code",
   "execution_count": null,
   "metadata": {},
   "outputs": [],
   "source": [
    "model_name = \"big_model\"\n",
    "\n",
    "train_data = \"\"\n",
    "for tub_name in tub_names:\n",
    "  train_data += \"./data/\" + tub_name + \" \"\n",
    "  print(tub_name)\n",
    "!donkey train --tub {train_data} --model models/{model_name}\".h5\""
   ]
  }
 ],
 "metadata": {
  "language_info": {
   "name": "python"
  }
 },
 "nbformat": 4,
 "nbformat_minor": 2
}
